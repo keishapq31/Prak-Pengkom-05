{
  "nbformat": 4,
  "nbformat_minor": 0,
  "metadata": {
    "colab": {
      "name": "H05_16321021_01.ipynb",
      "provenance": [],
      "collapsed_sections": []
    },
    "kernelspec": {
      "name": "python3",
      "display_name": "Python 3"
    },
    "language_info": {
      "name": "python"
    }
  },
  "cells": [
    {
      "cell_type": "markdown",
      "metadata": {
        "id": "x7wzm3fItkj5"
      },
      "source": [
        "Keterangan | Isi\n",
        "-----|-----------------------\n",
        "Nama | Keisha Prillia Qayyima\n",
        "NIM  | 16321021\n",
        "Tanggal | 28/11/2021\n",
        "Deskripsi | Program menganalisa dataset yang berisi nama, fakultas/sekolah, nilai matematika, fisika dan kimia"
      ]
    },
    {
      "cell_type": "code",
      "metadata": {
        "id": "XlYjsMkEp7Dn"
      },
      "source": [
        "import pandas as pd\n",
        "import matplotlib.pyplot as plt\n",
        "import numpy as np\n",
        "\n",
        "# read file data (csv)\n",
        "url = \"https://raw.githubusercontent.com/keishapq31/Prak-Pengkom-05/main/H05.csv\"\n",
        "df = pd.read_csv(url)"
      ],
      "execution_count": 6,
      "outputs": []
    },
    {
      "cell_type": "markdown",
      "metadata": {
        "id": "JrvwE5mTuE3Z"
      },
      "source": [
        "Program di atas untuk mengimport library yang dibutuhkan dalam program ini secara keseluruhan, serta untuk membaca data yang digunakan."
      ]
    },
    {
      "cell_type": "code",
      "metadata": {
        "colab": {
          "base_uri": "https://localhost:8080/"
        },
        "id": "whDygG2ou2Q_",
        "outputId": "4800101b-32df-474c-de91-e5357e0cb55e"
      },
      "source": [
        "# 1. Banyaknya data (dimensi dataset)\n",
        "print(\"Dimensi dataset: \"+str(len(df))+\" baris x \"+str(len(df.columns))+\" kolom.\")\n",
        "print()"
      ],
      "execution_count": 8,
      "outputs": [
        {
          "output_type": "stream",
          "name": "stdout",
          "text": [
            "Dimensi dataset: 5135 baris x 5 kolom.\n",
            "\n"
          ]
        }
      ]
    },
    {
      "cell_type": "code",
      "metadata": {
        "colab": {
          "base_uri": "https://localhost:8080/"
        },
        "id": "Jiqz1o4Dvybb",
        "outputId": "1d53995e-1682-47ef-e7a0-ccc4a5fb9b50"
      },
      "source": [
        "# 2. Menunjukkan 10 data pertama\n",
        "print(df[:10])\n",
        "print()"
      ],
      "execution_count": 9,
      "outputs": [
        {
          "output_type": "stream",
          "name": "stdout",
          "text": [
            "                             nama fakultas  nilai_mat  nilai_kim  nilai_fis\n",
            "0            Farhan Fathur Rahman    FMIPA      57.21      34.14      38.93\n",
            "1                  Steven Margono    FMIPA      67.43      51.50      57.20\n",
            "2                    Ryan Sentosa    SAPPK      90.62      37.38      40.73\n",
            "3            Muhajah Babny Muslim    FMIPA      72.31      38.80      44.79\n",
            "4                Alvin Natawiguna     FTSL      65.45      57.67      56.39\n",
            "5                   Sasti Safitri     FTSL      60.58      41.91      51.55\n",
            "6             Dani Yulianto Putra     FTSL      51.67      35.05      48.69\n",
            "7  Nabila Febitsukarizky Bunyamin     FTTM      71.66      67.61      69.75\n",
            "8             Ratna Siti Khodijah      FTI      73.06      59.16      59.48\n",
            "9                    Gita Partiwi     FTSL      69.57      38.84      48.17\n",
            "\n"
          ]
        }
      ]
    },
    {
      "cell_type": "code",
      "metadata": {
        "colab": {
          "base_uri": "https://localhost:8080/"
        },
        "id": "SIcJ7oCGwTWr",
        "outputId": "66b67fc2-afbf-4cf4-ea5b-2bc2a8007449"
      },
      "source": [
        "# 3. Menunjukkan data ke 50 sampai 60\n",
        "print(df[50:61])\n",
        "print()"
      ],
      "execution_count": 10,
      "outputs": [
        {
          "output_type": "stream",
          "name": "stdout",
          "text": [
            "                        nama fakultas  nilai_mat  nilai_kim  nilai_fis\n",
            "50      Arief Syakur Sutedjo     FTTM      84.40      61.21      73.91\n",
            "51         Fayi Raihan Saleh    FMIPA      60.62      32.57      42.34\n",
            "52          Erna Kristiawati      FTI      67.48      46.78      52.30\n",
            "53                    Albert    SAPPK      70.27      50.10      54.01\n",
            "54  M Jazztyan Indra Pradana     STEI      53.40      43.06      60.30\n",
            "55      Moch Ginanjar Busiri    FMIPA      74.29      38.44      49.15\n",
            "56              Aisya Tamara     FITB      71.49      35.86      37.41\n",
            "57        Tyas Arum Widayati    SAPPK      68.57      37.02      53.25\n",
            "58                Arif Saleh      FTI     100.00      59.79      55.33\n",
            "59     Windy Diwita Nisaekti      FTI      67.15      57.72      54.24\n",
            "60             Alif Aviano S     STEI      54.11      58.01      73.17\n",
            "\n"
          ]
        }
      ]
    },
    {
      "cell_type": "code",
      "metadata": {
        "colab": {
          "base_uri": "https://localhost:8080/"
        },
        "id": "Q59uOh_2yPaA",
        "outputId": "ca714b1f-cca5-483a-9d96-e1898e6f3f2d"
      },
      "source": [
        "# 4. Banyaknya mahasiswa tiap Fakultas\n",
        "fak = df[\"fakultas\"].value_counts()\n",
        "print(fak)\n",
        "print()"
      ],
      "execution_count": 11,
      "outputs": [
        {
          "output_type": "stream",
          "name": "stdout",
          "text": [
            "FTI      834\n",
            "STEI     777\n",
            "FTSL     660\n",
            "FMIPA    627\n",
            "FTTM     579\n",
            "FTMD     480\n",
            "FITB     403\n",
            "SAPPK    315\n",
            "SITHR    282\n",
            "SITHS    178\n",
            "Name: fakultas, dtype: int64\n",
            "\n"
          ]
        }
      ]
    },
    {
      "cell_type": "code",
      "metadata": {
        "colab": {
          "base_uri": "https://localhost:8080/"
        },
        "id": "cJKAidU_gQmj",
        "outputId": "4eb382a7-1306-41e2-b9dd-b5212c6a0911"
      },
      "source": [
        "# 5. Korelasi nilai Fisika dan Kimia\n",
        "x = df[\"nilai_fis\"].corr(df[\"nilai_kim\"])\n",
        "print(x)\n",
        "print(\"Dalam persen:\",x*100,\"%\")"
      ],
      "execution_count": 12,
      "outputs": [
        {
          "output_type": "stream",
          "name": "stdout",
          "text": [
            "0.7988187423880275\n",
            "Dalam persen: 79.88187423880275 %\n"
          ]
        }
      ]
    },
    {
      "cell_type": "markdown",
      "metadata": {
        "id": "CNoQIBrP2IyG"
      },
      "source": [
        "Antara nilai Fisika dan Kimia, terdapat korelasi yang cukup besar. Korelasi antara nilai kedua mata kuliah itu mencapai sekitar 79.88%. Korelasi seperti ini menyampaikan bahwa ada hubungan yang cukup kuat antara besar nilai mata kuliah Fisika dan Kimia. Menyatakan bahwa, besar nilai Fisika dan Kimia cenderung berbanding lurus diantara keduanya."
      ]
    }
  ]
}