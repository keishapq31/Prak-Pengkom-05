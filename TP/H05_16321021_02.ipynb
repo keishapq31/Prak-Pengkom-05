{
  "nbformat": 4,
  "nbformat_minor": 0,
  "metadata": {
    "colab": {
      "name": "H05_16321021_02.ipynb",
      "provenance": [],
      "collapsed_sections": []
    },
    "kernelspec": {
      "name": "python3",
      "display_name": "Python 3"
    },
    "language_info": {
      "name": "python"
    }
  },
  "cells": [
    {
      "cell_type": "markdown",
      "metadata": {
        "id": "t3dP6r9Asn15"
      },
      "source": [
        "Keterangan | Isi\n",
        "-----|-----------------------\n",
        "Nama | Keisha Prillia Qayyima\n",
        "NIM  | 16321021\n",
        "Tanggal | 28/11/2021\n",
        "Deskripsi | Program menganalisa dataset yang berisi nama, fakultas/sekolah, nilai matematika, fisika dan kimia"
      ]
    },
    {
      "cell_type": "code",
      "metadata": {
        "id": "DZ-jZ1wC2yTV"
      },
      "source": [
        "import pandas as pd\n",
        "import matplotlib.pyplot as plt\n",
        "import numpy as np\n",
        "\n",
        "# read file data (csv)\n",
        "url = \"https://raw.githubusercontent.com/keishapq31/Prak-Pengkom-05/main/H05.csv\"\n",
        "df = pd.read_csv(url)"
      ],
      "execution_count": 18,
      "outputs": []
    },
    {
      "cell_type": "markdown",
      "metadata": {
        "id": "arOPjIj2uHVw"
      },
      "source": [
        "Program di atas untuk mengimport library yang dibutuhkan dalam program ini secara keseluruhan, serta untuk membaca data yang digunakan."
      ]
    },
    {
      "cell_type": "code",
      "metadata": {
        "id": "ZmH5wC5T29Em",
        "colab": {
          "base_uri": "https://localhost:8080/"
        },
        "outputId": "f39c9b95-598a-4448-bd71-e62142f78cc2"
      },
      "source": [
        "# 1. Nilai Matematika, Fisika, dan Kimia milik Tuan Ric\n",
        "row = df.loc[df[\"nama\"] == \"Tuan Ric\"]\n",
        "print(row)\n",
        "print()"
      ],
      "execution_count": 19,
      "outputs": [
        {
          "output_type": "stream",
          "name": "stdout",
          "text": [
            "          nama fakultas  nilai_mat  nilai_kim  nilai_fis\n",
            "3513  Tuan Ric     STEI      96.78      62.23      30.53\n",
            "\n"
          ]
        }
      ]
    },
    {
      "cell_type": "code",
      "metadata": {
        "colab": {
          "base_uri": "https://localhost:8080/"
        },
        "id": "vKBlLvuG5KQD",
        "outputId": "ec491045-7d3c-4002-9fd0-1ec1dd1e9093"
      },
      "source": [
        "# 2. Mahasiswa dengan nilai Fisika tertinggi\n",
        "maxn = df[\"nilai_fis\"].idxmax()\n",
        "print(df[maxn:maxn+1])"
      ],
      "execution_count": 20,
      "outputs": [
        {
          "output_type": "stream",
          "name": "stdout",
          "text": [
            "                         nama fakultas  nilai_mat  nilai_kim  nilai_fis\n",
            "1936  Yuniar Fazriani Rusmana     FITB      53.61      67.19      92.57\n"
          ]
        }
      ]
    },
    {
      "cell_type": "code",
      "metadata": {
        "id": "KFH4yhN87JhY",
        "colab": {
          "base_uri": "https://localhost:8080/"
        },
        "outputId": "70dcd241-382c-4d78-b9a1-2cf55b6c5b54"
      },
      "source": [
        "# 3. 10 Mahasiswa dengan nilai Kimia tertinggi\n",
        "x = df.sort_values([\"nilai_kim\"],ascending=False)\n",
        "print(x[:10])"
      ],
      "execution_count": 21,
      "outputs": [
        {
          "output_type": "stream",
          "name": "stdout",
          "text": [
            "                          nama fakultas  nilai_mat  nilai_kim  nilai_fis\n",
            "2554      Faathir Reza Avicena     FTSL      57.12      81.50      78.68\n",
            "2779      Dinda A A Z Mundakir     STEI      41.18      81.34      82.60\n",
            "3544        Tammya Ayu Purnomo    SITHS      74.49      81.20      78.58\n",
            "4934    Alyssa Nadhira Windari     FTMD      78.38      78.83      78.68\n",
            "1137          Izni Nur Ibrahim     STEI      56.70      78.46      84.34\n",
            "2262      Rinaldi Oky Setiawan     STEI      71.22      77.44      83.66\n",
            "4070      Ias Azhari Rezkyarno    FMIPA      62.85      76.90      81.52\n",
            "2945           Klara Petra T T     FTSL      73.39      76.61      78.12\n",
            "1788  Naudy Germanimo Laksmana     FTMD      62.29      76.38      76.15\n",
            "1310       Mardliyahtur Rohmah     STEI      63.15      76.36      74.06\n"
          ]
        }
      ]
    },
    {
      "cell_type": "code",
      "metadata": {
        "colab": {
          "base_uri": "https://localhost:8080/"
        },
        "id": "kgZ-Rb9j7toV",
        "outputId": "e060ecb5-62b9-49a2-dddb-96460b48f0e0"
      },
      "source": [
        "# 4. Banyaknya nilai matematika di bawah 50\n",
        "mat = df.loc[df[\"nilai_mat\"]<50]\n",
        "data = df[\"nilai_mat\"]\n",
        "count = 0\n",
        "\n",
        "for i in range(len(data)):\n",
        "  df1 = data[i]\n",
        "  if df1<50:\n",
        "    count += 1\n",
        "\n",
        "print(\"Banyaknya mahasiswa dengan nilai Matematika di bawah 50 ada\",count,\"mahasiswa.\")"
      ],
      "execution_count": 22,
      "outputs": [
        {
          "output_type": "stream",
          "name": "stdout",
          "text": [
            "Banyaknya mahasiswa dengan nilai Matematika di bawah 50 ada 329 mahasiswa.\n"
          ]
        }
      ]
    },
    {
      "cell_type": "code",
      "metadata": {
        "colab": {
          "base_uri": "https://localhost:8080/"
        },
        "id": "0096b4XudeIs",
        "outputId": "dee9238c-9e99-4304-94a4-5721e22a475d"
      },
      "source": [
        "# 5. Banyaknya mahasiswa FMIPA\n",
        "fmipa = df.loc[df[\"fakultas\"]==\"FMIPA\"]\n",
        "data = df[\"fakultas\"]\n",
        "count = 0\n",
        "\n",
        "for i in range(len(data)):\n",
        "  df1 = data[i]\n",
        "  if df1 == \"FMIPA\":\n",
        "    count += 1\n",
        "\n",
        "print(\"Banyaknya mahasiswa FMIPA adalah\",count,\"mahasiswa.\")"
      ],
      "execution_count": 23,
      "outputs": [
        {
          "output_type": "stream",
          "name": "stdout",
          "text": [
            "Banyaknya mahasiswa FMIPA adalah 627 mahasiswa.\n"
          ]
        }
      ]
    }
  ]
}